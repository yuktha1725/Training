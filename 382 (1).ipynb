{
 "cells": [
  {
   "cell_type": "code",
   "execution_count": 2,
   "id": "7f075bea-b044-4815-a50e-a7d874874887",
   "metadata": {},
   "outputs": [
    {
     "name": "stdout",
     "output_type": "stream",
     "text": [
      "17\n"
     ]
    },
    {
     "data": {
      "text/plain": [
       "int"
      ]
     },
     "execution_count": 2,
     "metadata": {},
     "output_type": "execute_result"
    }
   ],
   "source": [
    "a=17\n",
    "print(a)\n",
    "type(a)"
   ]
  },
  {
   "cell_type": "code",
   "execution_count": 1,
   "id": "1de827f1-c468-4d1d-b8ad-d24230f3f7f4",
   "metadata": {},
   "outputs": [
    {
     "name": "stdout",
     "output_type": "stream",
     "text": [
      "yuktha\n"
     ]
    },
    {
     "data": {
      "text/plain": [
       "str"
      ]
     },
     "execution_count": 1,
     "metadata": {},
     "output_type": "execute_result"
    }
   ],
   "source": [
    "b=\"yuktha\"\n",
    "print(b)\n",
    "type(b)"
   ]
  },
  {
   "cell_type": "code",
   "execution_count": 3,
   "id": "6a703add-2367-42fa-8933-e741eee018b2",
   "metadata": {},
   "outputs": [
    {
     "name": "stdout",
     "output_type": "stream",
     "text": [
      "true\n"
     ]
    },
    {
     "data": {
      "text/plain": [
       "str"
      ]
     },
     "execution_count": 3,
     "metadata": {},
     "output_type": "execute_result"
    }
   ],
   "source": [
    "c=\"true\"\n",
    "print(c)\n",
    "type(c)"
   ]
  },
  {
   "cell_type": "code",
   "execution_count": 5,
   "id": "27afadfe-122b-48a2-a7e5-e2aafc3ae826",
   "metadata": {},
   "outputs": [
    {
     "data": {
      "text/plain": [
       "bool"
      ]
     },
     "execution_count": 5,
     "metadata": {},
     "output_type": "execute_result"
    }
   ],
   "source": [
    "d=False\n",
    "type(d)"
   ]
  },
  {
   "cell_type": "code",
   "execution_count": 7,
   "id": "b87e2c4b-7e3b-4807-a783-1353f757a048",
   "metadata": {},
   "outputs": [
    {
     "name": "stdout",
     "output_type": "stream",
     "text": [
      "25.8\n"
     ]
    },
    {
     "data": {
      "text/plain": [
       "float"
      ]
     },
     "execution_count": 7,
     "metadata": {},
     "output_type": "execute_result"
    }
   ],
   "source": [
    "e=25.8\n",
    "print(e)\n",
    "type(e)"
   ]
  },
  {
   "cell_type": "code",
   "execution_count": null,
   "id": "1b5ffc01-6dc2-4e29-bb1b-17d0dacb1df9",
   "metadata": {},
   "outputs": [],
   "source": [
    "### addition +\n",
    "### subtraction -\n",
    "### multiplication *\n",
    "### remainder %\n",
    "### power **\n",
    "### // floor division"
   ]
  },
  {
   "cell_type": "code",
   "execution_count": 1,
   "id": "58926be2-f238-4f3b-a2ab-6860f9677f76",
   "metadata": {},
   "outputs": [
    {
     "data": {
      "text/plain": [
       "24"
      ]
     },
     "execution_count": 1,
     "metadata": {},
     "output_type": "execute_result"
    }
   ],
   "source": [
    "a=24\n",
    "a\n"
   ]
  },
  {
   "cell_type": "code",
   "execution_count": 3,
   "id": "ea336aa0-6875-48fe-8501-d4b14437e1a6",
   "metadata": {},
   "outputs": [
    {
     "data": {
      "text/plain": [
       "[45, 87, 32, 98]"
      ]
     },
     "execution_count": 3,
     "metadata": {},
     "output_type": "execute_result"
    }
   ],
   "source": [
    "a=[45,87,32,98]\n",
    "a\n"
   ]
  },
  {
   "cell_type": "code",
   "execution_count": 5,
   "id": "e3fdb8a0-46c5-4883-83d2-ae4e854c4cd7",
   "metadata": {},
   "outputs": [
    {
     "data": {
      "text/plain": [
       "list"
      ]
     },
     "execution_count": 5,
     "metadata": {},
     "output_type": "execute_result"
    }
   ],
   "source": [
    "type(a)"
   ]
  },
  {
   "cell_type": "code",
   "execution_count": 7,
   "id": "15585d90-6a56-4ca3-a765-ce1b9164e07d",
   "metadata": {},
   "outputs": [
    {
     "data": {
      "text/plain": [
       "['data', True, 17, 25, 180, 'Hyderabad', 67, 89, 23, 90, False]"
      ]
     },
     "execution_count": 7,
     "metadata": {},
     "output_type": "execute_result"
    }
   ],
   "source": [
    "c=['data',True,17,25,180,'Hyderabad',67,89,23,90,False]\n",
    "c"
   ]
  },
  {
   "cell_type": "code",
   "execution_count": 9,
   "id": "38c661bd-42ca-4af9-a488-bee75671719f",
   "metadata": {},
   "outputs": [
    {
     "data": {
      "text/plain": [
       "list"
      ]
     },
     "execution_count": 9,
     "metadata": {},
     "output_type": "execute_result"
    }
   ],
   "source": [
    "type(c)\n"
   ]
  },
  {
   "cell_type": "code",
   "execution_count": 11,
   "id": "94dcaf3d-027b-4514-bb87-a4ba191bfbc1",
   "metadata": {},
   "outputs": [
    {
     "data": {
      "text/plain": [
       "'data'"
      ]
     },
     "execution_count": 11,
     "metadata": {},
     "output_type": "execute_result"
    }
   ],
   "source": [
    "c[0]"
   ]
  },
  {
   "cell_type": "code",
   "execution_count": 13,
   "id": "1be36e2f-c669-4f05-8ebf-dad462a5f25c",
   "metadata": {},
   "outputs": [
    {
     "data": {
      "text/plain": [
       "89"
      ]
     },
     "execution_count": 13,
     "metadata": {},
     "output_type": "execute_result"
    }
   ],
   "source": [
    "c[7]\n"
   ]
  },
  {
   "cell_type": "code",
   "execution_count": 15,
   "id": "fbea32d3-f6de-41ee-9291-058324d757fe",
   "metadata": {},
   "outputs": [
    {
     "data": {
      "text/plain": [
       "[25, 180, 'Hyderabad', 67]"
      ]
     },
     "execution_count": 15,
     "metadata": {},
     "output_type": "execute_result"
    }
   ],
   "source": [
    "c[3:7]"
   ]
  },
  {
   "cell_type": "code",
   "execution_count": 17,
   "id": "80b59b1d-3f13-4801-8f67-d7184bf5fd9a",
   "metadata": {},
   "outputs": [
    {
     "data": {
      "text/plain": [
       "['data', 'Hyderabad', False]"
      ]
     },
     "execution_count": 17,
     "metadata": {},
     "output_type": "execute_result"
    }
   ],
   "source": [
    "c[0::5]"
   ]
  },
  {
   "cell_type": "code",
   "execution_count": 19,
   "id": "cf52addd-4f6e-4107-93a8-035099604321",
   "metadata": {},
   "outputs": [
    {
     "data": {
      "text/plain": [
       "[]"
      ]
     },
     "execution_count": 19,
     "metadata": {},
     "output_type": "execute_result"
    }
   ],
   "source": [
    "c[-3:-7]"
   ]
  },
  {
   "cell_type": "code",
   "execution_count": 21,
   "id": "81a8cc0a-a264-462f-bc7b-4f381ef7dcd4",
   "metadata": {},
   "outputs": [
    {
     "data": {
      "text/plain": [
       "[90, 180]"
      ]
     },
     "execution_count": 21,
     "metadata": {},
     "output_type": "execute_result"
    }
   ],
   "source": [
    "c[-2:1:-5]"
   ]
  },
  {
   "cell_type": "code",
   "execution_count": 23,
   "id": "c12b31fb-2757-4151-8009-db239e103ad5",
   "metadata": {},
   "outputs": [
    {
     "data": {
      "text/plain": [
       "['data', True, 17, 25, 180, 'Hyderabad', 67, 89, 23, 90, False]"
      ]
     },
     "execution_count": 23,
     "metadata": {},
     "output_type": "execute_result"
    }
   ],
   "source": [
    "c"
   ]
  },
  {
   "cell_type": "markdown",
   "id": "4d1d8b93-eb83-44ec-90fd-9b3592e6f281",
   "metadata": {},
   "source": [
    "list methods"
   ]
  },
  {
   "cell_type": "code",
   "execution_count": 29,
   "id": "ae3c6f43-59d9-4451-be82-fb8df0e2cab5",
   "metadata": {},
   "outputs": [
    {
     "data": {
      "text/plain": [
       "['data', True, 17, 25, 180, 'Hyderabad', 67, 89, 23, 90, False, 90, 90]"
      ]
     },
     "execution_count": 29,
     "metadata": {},
     "output_type": "execute_result"
    }
   ],
   "source": [
    "c.append(90)\n",
    "c"
   ]
  },
  {
   "cell_type": "code",
   "execution_count": 32,
   "id": "77f432c8-6bac-4fb3-bfa8-833f997e9c5c",
   "metadata": {},
   "outputs": [],
   "source": [
    "c.insert(22,13)"
   ]
  },
  {
   "cell_type": "code",
   "execution_count": 34,
   "id": "0edc2de8-1216-4539-b48b-76ffa318182c",
   "metadata": {},
   "outputs": [
    {
     "data": {
      "text/plain": [
       "['data', True, 17, 25, 180, 'Hyderabad', 67, 89, 23, 90, False, 90, 90, 13]"
      ]
     },
     "execution_count": 34,
     "metadata": {},
     "output_type": "execute_result"
    }
   ],
   "source": [
    "c"
   ]
  },
  {
   "cell_type": "code",
   "execution_count": 36,
   "id": "fb7a7da5-71de-4737-b1a1-cdcc60a65228",
   "metadata": {},
   "outputs": [
    {
     "data": {
      "text/plain": [
       "['data', True, 17, 25, 'Hyderabad', 67, 89, 23, 90, False, 90, 90, 13]"
      ]
     },
     "execution_count": 36,
     "metadata": {},
     "output_type": "execute_result"
    }
   ],
   "source": [
    "c.remove(180)\n",
    "c\n",
    "\n",
    "\n"
   ]
  },
  {
   "cell_type": "code",
   "execution_count": 40,
   "id": "5f59c7af-3416-4c45-991c-833077e16044",
   "metadata": {},
   "outputs": [
    {
     "data": {
      "text/plain": [
       "67"
      ]
     },
     "execution_count": 40,
     "metadata": {},
     "output_type": "execute_result"
    }
   ],
   "source": [
    "c.pop(5)"
   ]
  },
  {
   "cell_type": "code",
   "execution_count": 42,
   "id": "a23b0ece-e18f-4ff1-99bf-a7b0748e9f3d",
   "metadata": {},
   "outputs": [
    {
     "data": {
      "text/plain": [
       "['data', True, 17, 25, 'Hyderabad', 89, 23, 90, False, 90, 90, 13]"
      ]
     },
     "execution_count": 42,
     "metadata": {},
     "output_type": "execute_result"
    }
   ],
   "source": [
    "c"
   ]
  },
  {
   "cell_type": "code",
   "execution_count": 44,
   "id": "c19ebd89-b975-4732-9e88-ce54b3ac5c30",
   "metadata": {},
   "outputs": [
    {
     "data": {
      "text/plain": [
       "['data', True, 17, 25, 'Hyderabad', 89, 23, 90, False, 90, 90, 13, 22, 56, 78]"
      ]
     },
     "execution_count": 44,
     "metadata": {},
     "output_type": "execute_result"
    }
   ],
   "source": [
    "c.extend([22,56,78,])\n",
    "c\n"
   ]
  },
  {
   "cell_type": "code",
   "execution_count": null,
   "id": "f09b1d0d-0820-46b0-a0cf-32249c0bddcd",
   "metadata": {},
   "outputs": [],
   "source": []
  }
 ],
 "metadata": {
  "kernelspec": {
   "display_name": "Python [conda env:base] *",
   "language": "python",
   "name": "conda-base-py"
  },
  "language_info": {
   "codemirror_mode": {
    "name": "ipython",
    "version": 3
   },
   "file_extension": ".py",
   "mimetype": "text/x-python",
   "name": "python",
   "nbconvert_exporter": "python",
   "pygments_lexer": "ipython3",
   "version": "3.12.7"
  }
 },
 "nbformat": 4,
 "nbformat_minor": 5
}
