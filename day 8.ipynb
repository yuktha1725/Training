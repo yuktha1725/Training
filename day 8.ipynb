{
 "cells": [
  {
   "cell_type": "raw",
   "id": "5d7ad7b0-9b60-43f0-bc2f-8447dc33451c",
   "metadata": {},
   "source": [
    "for\n",
    "while"
   ]
  },
  {
   "cell_type": "code",
   "execution_count": 1,
   "id": "c7f16ae7-b0f5-4463-8284-17cceb023da8",
   "metadata": {},
   "outputs": [
    {
     "name": "stdout",
     "output_type": "stream",
     "text": [
      "data\n"
     ]
    }
   ],
   "source": [
    "print('data')"
   ]
  },
  {
   "cell_type": "code",
   "execution_count": 1,
   "id": "94a2dcfe-a4db-48d9-b19a-90d08bf19ee2",
   "metadata": {},
   "outputs": [
    {
     "name": "stdout",
     "output_type": "stream",
     "text": [
      "Yes\n",
      "Yes\n",
      "Yes\n",
      "Yes\n",
      "Yes\n"
     ]
    }
   ],
   "source": [
    "x=100\n",
    "while x<600:\n",
    "    print('Yes')\n",
    "    x=x+100"
   ]
  },
  {
   "cell_type": "code",
   "execution_count": 3,
   "id": "6e826600-1670-4990-8d13-fec5d44e4ed7",
   "metadata": {},
   "outputs": [
    {
     "data": {
      "text/plain": [
       "[50, 70, 20, 90, 60]"
      ]
     },
     "execution_count": 3,
     "metadata": {},
     "output_type": "execute_result"
    }
   ],
   "source": [
    "y=[50,70,20,90,60]\n",
    "y"
   ]
  },
  {
   "cell_type": "code",
   "execution_count": 11,
   "id": "e754e165-7a84-48c0-89cb-23bbd11b9bbf",
   "metadata": {},
   "outputs": [
    {
     "data": {
      "text/plain": [
       "[50, 30, 40, 90, 60, 20]"
      ]
     },
     "execution_count": 11,
     "metadata": {},
     "output_type": "execute_result"
    }
   ],
   "source": [
    "dollars=[50,30,40,90,60,20]\n",
    "dollars"
   ]
  },
  {
   "cell_type": "code",
   "execution_count": 13,
   "id": "db724fdf-3e38-4863-9eee-1d301ffc7c7d",
   "metadata": {},
   "outputs": [
    {
     "name": "stdout",
     "output_type": "stream",
     "text": [
      "4250\n",
      "2550\n",
      "3400\n",
      "7650\n",
      "5100\n",
      "1700\n"
     ]
    }
   ],
   "source": [
    "for i in dollars:\n",
    "    print(i*85)"
   ]
  },
  {
   "cell_type": "code",
   "execution_count": 15,
   "id": "9f0f4bff-bb62-42b1-9b03-1e389b64912a",
   "metadata": {},
   "outputs": [],
   "source": [
    "inr=[]\n",
    "for i in dollars:\n",
    "    inr.append(i*85)"
   ]
  },
  {
   "cell_type": "code",
   "execution_count": 17,
   "id": "28da8c15-381a-4421-b5b7-ad1d9ac20602",
   "metadata": {},
   "outputs": [
    {
     "data": {
      "text/plain": [
       "[4250, 2550, 3400, 7650, 5100, 1700]"
      ]
     },
     "execution_count": 17,
     "metadata": {},
     "output_type": "execute_result"
    }
   ],
   "source": [
    "inr"
   ]
  },
  {
   "cell_type": "code",
   "execution_count": 19,
   "id": "9f678a12-c280-45d3-ad84-dfea07cb2d28",
   "metadata": {},
   "outputs": [
    {
     "data": {
      "text/plain": [
       "[25, 43, 98, 23, 57, 78, 39, 13, 38, 37, 90, 56, 78, 68]"
      ]
     },
     "execution_count": 19,
     "metadata": {},
     "output_type": "execute_result"
    }
   ],
   "source": [
    "num=[25,43,98,23,57,78,39,13,38,37,90,56,78,68]\n",
    "num"
   ]
  },
  {
   "cell_type": "code",
   "execution_count": 3,
   "id": "8ff98548-1c83-44ce-ac53-ba6f2c279db0",
   "metadata": {},
   "outputs": [],
   "source": [
    "num=[25,43,98,23,57,78,39,13,38,37,90,56,78,68]\n",
    "j=[]\n",
    "k=[]\n",
    "for i in num:\n",
    "    if i%2==0:\n",
    "        j.append(i)\n",
    "    else:\n",
    "        k.append(i)\n",
    "        "
   ]
  },
  {
   "cell_type": "code",
   "execution_count": 5,
   "id": "7a4ab187-0233-4d47-9ddb-47ac32d9449c",
   "metadata": {},
   "outputs": [
    {
     "data": {
      "text/plain": [
       "[98, 78, 38, 90, 56, 78, 68]"
      ]
     },
     "execution_count": 5,
     "metadata": {},
     "output_type": "execute_result"
    }
   ],
   "source": [
    "j"
   ]
  },
  {
   "cell_type": "code",
   "execution_count": 7,
   "id": "adef66c5-a10f-4da8-bf58-0564c817bddf",
   "metadata": {},
   "outputs": [
    {
     "data": {
      "text/plain": [
       "[25, 43, 23, 57, 39, 13, 37]"
      ]
     },
     "execution_count": 7,
     "metadata": {},
     "output_type": "execute_result"
    }
   ],
   "source": [
    "k"
   ]
  },
  {
   "cell_type": "code",
   "execution_count": 13,
   "id": "e19fd193-7509-426f-90b2-1b86c60c7222",
   "metadata": {},
   "outputs": [],
   "source": [
    "l=[]\n",
    "for i in num:\n",
    "    a=str(i)\n",
    "    b=a.replace('8','5')\n",
    "    c=int(b)\n",
    "    l.append(c)"
   ]
  },
  {
   "cell_type": "code",
   "execution_count": 15,
   "id": "244b6b2b-db14-4878-83bf-3e41c2fa7b2f",
   "metadata": {},
   "outputs": [
    {
     "data": {
      "text/plain": [
       "[25, 43, 98, 23, 57, 78, 39, 13, 38, 37, 90, 56, 78, 68]"
      ]
     },
     "execution_count": 15,
     "metadata": {},
     "output_type": "execute_result"
    }
   ],
   "source": [
    "num"
   ]
  },
  {
   "cell_type": "code",
   "execution_count": null,
   "id": "b69372f2-ea1b-4ff0-9af1-ec6aa34b67ea",
   "metadata": {},
   "outputs": [],
   "source": []
  }
 ],
 "metadata": {
  "kernelspec": {
   "display_name": "Python [conda env:base] *",
   "language": "python",
   "name": "conda-base-py"
  },
  "language_info": {
   "codemirror_mode": {
    "name": "ipython",
    "version": 3
   },
   "file_extension": ".py",
   "mimetype": "text/x-python",
   "name": "python",
   "nbconvert_exporter": "python",
   "pygments_lexer": "ipython3",
   "version": "3.12.7"
  }
 },
 "nbformat": 4,
 "nbformat_minor": 5
}
