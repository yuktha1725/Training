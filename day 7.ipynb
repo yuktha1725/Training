{
 "cells": [
  {
   "cell_type": "raw",
   "id": "c62c749b-8144-4a1d-b4f9-b2cb7dedc248",
   "metadata": {},
   "source": [
    "if condition1:\n",
    "    task1 block of code\n",
    "elif condition2:\n",
    "    task2 block of code\n",
    "elif condition3:\n",
    "    task3 block of code\n",
    ".\n",
    ".\n",
    ".\n",
    "elif condition n:\n",
    "    task n \n",
    "else:\n",
    "    task4 block of code"
   ]
  },
  {
   "cell_type": "code",
   "execution_count": 6,
   "id": "9ce6a095-29ff-4123-a1fe-da21234f3a3a",
   "metadata": {},
   "outputs": [
    {
     "name": "stdout",
     "output_type": "stream",
     "text": [
      "odd\n"
     ]
    }
   ],
   "source": [
    "x=9\n",
    "if x%2==0:\n",
    "    print(\"Even\")\n",
    "else:\n",
    "    print(\"odd\")\n"
   ]
  },
  {
   "cell_type": "code",
   "execution_count": 8,
   "id": "cd024fca-5bba-4006-9032-0bc3c09f1ced",
   "metadata": {},
   "outputs": [
    {
     "data": {
      "text/plain": [
       "False"
      ]
     },
     "execution_count": 8,
     "metadata": {},
     "output_type": "execute_result"
    }
   ],
   "source": [
    "x%2==0"
   ]
  },
  {
   "cell_type": "code",
   "execution_count": 10,
   "id": "4adbbe04-dce0-49ca-bee0-0899f3f57b28",
   "metadata": {},
   "outputs": [
    {
     "data": {
      "text/plain": [
       "False"
      ]
     },
     "execution_count": 10,
     "metadata": {},
     "output_type": "execute_result"
    }
   ],
   "source": [
    "x=7\n",
    "x%2==0"
   ]
  },
  {
   "cell_type": "code",
   "execution_count": 16,
   "id": "4d7a8707-d71a-441d-acc9-b0f7e6e09d82",
   "metadata": {},
   "outputs": [
    {
     "data": {
      "text/plain": [
       "26"
      ]
     },
     "execution_count": 16,
     "metadata": {},
     "output_type": "execute_result"
    }
   ],
   "source": [
    "x+4"
   ]
  },
  {
   "cell_type": "code",
   "execution_count": 18,
   "id": "6de0f153-0dcd-497d-9fed-9e26830612ed",
   "metadata": {},
   "outputs": [
    {
     "data": {
      "text/plain": [
       "True"
      ]
     },
     "execution_count": 18,
     "metadata": {},
     "output_type": "execute_result"
    }
   ],
   "source": [
    "bool(x+4)"
   ]
  },
  {
   "cell_type": "code",
   "execution_count": 20,
   "id": "baa6b19a-9c51-4562-80c7-168a8beb5612",
   "metadata": {},
   "outputs": [
    {
     "name": "stdout",
     "output_type": "stream",
     "text": [
      "neg\n"
     ]
    }
   ],
   "source": [
    "x=-6.5\n",
    "if x>0:\n",
    "    print('pos')\n",
    "elif x<0:\n",
    "    print('neg')\n",
    "else:\n",
    "    print('zero')"
   ]
  },
  {
   "cell_type": "code",
   "execution_count": 22,
   "id": "6d62b576-288b-4d83-b44f-30998fbc7f15",
   "metadata": {},
   "outputs": [
    {
     "name": "stdout",
     "output_type": "stream",
     "text": [
      "neg\n",
      "a\n"
     ]
    }
   ],
   "source": [
    "x=-6.5\n",
    "if x>0:\n",
    "    print('pos')\n",
    "    if x>10:\n",
    "        print('y')\n",
    "    elif x>20:\n",
    "        print('u')\n",
    "    elif x<10:\n",
    "        print('K')\n",
    "    else:\n",
    "        print('t')\n",
    "elif x<0:\n",
    "    print('neg')\n",
    "    if x<-20:\n",
    "        print('h')\n",
    "    elif x>-10:\n",
    "        print('a')\n",
    "    elif x>-300:\n",
    "        print('M')\n",
    "else:\n",
    "    print('zero')"
   ]
  },
  {
   "cell_type": "code",
   "execution_count": 24,
   "id": "4528def8-1e57-434b-a0c5-358c528bc9e9",
   "metadata": {},
   "outputs": [
    {
     "name": "stdout",
     "output_type": "stream",
     "text": [
      "pos\n",
      "y\n"
     ]
    }
   ],
   "source": [
    "x=20\n",
    "if x>0:\n",
    "    print('pos')\n",
    "    if x>10:\n",
    "        print('y')\n",
    "    elif x>20:\n",
    "        print('u')\n",
    "    elif x<10:\n",
    "        print('K')\n",
    "    else:\n",
    "        print('t')\n",
    "elif x<0:\n",
    "    print('neg')\n",
    "    if x<-20:\n",
    "        print('h')\n",
    "    elif x>-10:\n",
    "        print('a')\n",
    "    elif x>-300:\n",
    "        print('M')\n",
    "else:\n",
    "    print('zero')"
   ]
  },
  {
   "cell_type": "code",
   "execution_count": 32,
   "id": "2cb8aa4e-c8e3-40c4-9e67-ed6f6d6770ec",
   "metadata": {},
   "outputs": [
    {
     "name": "stdout",
     "output_type": "stream",
     "text": [
      "neg\n",
      "h\n"
     ]
    }
   ],
   "source": [
    "x=-30\n",
    "if x>0:\n",
    "    print('pos')\n",
    "    if x>10:\n",
    "        print('y')\n",
    "    elif x>20:\n",
    "        print('u')\n",
    "    elif x<10:\n",
    "        print('K')\n",
    "    else:\n",
    "        print('t')\n",
    "elif x<0:\n",
    "    print('neg')\n",
    "    if x<-20:\n",
    "        print('h')\n",
    "    elif x>-10:\n",
    "        print('a')\n",
    "    elif x>-300:\n",
    "        print('M')\n",
    "else:\n",
    "    print(x=-6.5\n",
    "if x>0:\n",
    "    print('pos')\n",
    "    if x>10:\n",
    "        print('y')\n",
    "    elif x>20:\n",
    "        print('u')\n",
    "    elif x<10:\n",
    "        print('K')\n",
    "    else:\n",
    "        print('t')\n",
    "elif x<0:\n",
    "    print('neg')\n",
    "    if x<-20:\n",
    "        print('h')\n",
    "    elif x>-10:\n",
    "        print('a')\n",
    "    elif x>-300:\n",
    "        print('M')\n",
    "else:\n",
    "    print('zerox=-6.5\n",
    "if x>0:\n",
    "    print('pos')\n",
    "    if x>10:\n",
    "        print('y')\n",
    "    elif x>20:\n",
    "        print('u')\n",
    "    elif x<10:\n",
    "        print('K')\n",
    "    else:\n",
    "        print('t')\n",
    "elif x<0:\n",
    "    print('neg')\n",
    "    if x<-20:\n",
    "        print('h')\n",
    "    elif x>-10:\n",
    "        print('a')\n",
    "    elif x>-300:\n",
    "        print('M')\n",
    "else:\n",
    "    print('zero')"
   ]
  },
  {
   "cell_type": "code",
   "execution_count": 54,
   "id": "cb78726f-1fa9-4e84-a049-0f06ba995268",
   "metadata": {},
   "outputs": [
    {
     "name": "stdout",
     "output_type": "stream",
     "text": [
      "Yes\n"
     ]
    }
   ],
   "source": [
    "x='Title'\n",
    "if x[0]=='T' or x[0]=='t':\n",
    "    print('Yes')\n",
    "else:\n",
    "    print('No')"
   ]
  },
  {
   "cell_type": "code",
   "execution_count": 56,
   "id": "d9224aac-e50c-45d9-b51c-d8296b8dc70d",
   "metadata": {},
   "outputs": [
    {
     "name": "stdout",
     "output_type": "stream",
     "text": [
      "Yes\n"
     ]
    }
   ],
   "source": [
    "x='mumma'\n",
    "if x[0].lower() in ('s','m','t'):\n",
    "    print('Yes')\n",
    "else:\n",
    "    print('No')"
   ]
  },
  {
   "cell_type": "code",
   "execution_count": null,
   "id": "35c0bcf9-8e49-4348-b28b-acfd80aea624",
   "metadata": {},
   "outputs": [],
   "source": [
    "if x[0]=='s' or x[0]=='S' or x[0]=='m' or x[0]=='M' or x[0]=='t' or x[0]=='t':\n",
    "    print('Yes')\n",
    "else:\n",
    "    print(No')"
   ]
  }
 ],
 "metadata": {
  "kernelspec": {
   "display_name": "Python [conda env:base] *",
   "language": "python",
   "name": "conda-base-py"
  },
  "language_info": {
   "codemirror_mode": {
    "name": "ipython",
    "version": 3
   },
   "file_extension": ".py",
   "mimetype": "text/x-python",
   "name": "python",
   "nbconvert_exporter": "python",
   "pygments_lexer": "ipython3",
   "version": "3.12.7"
  }
 },
 "nbformat": 4,
 "nbformat_minor": 5
}
