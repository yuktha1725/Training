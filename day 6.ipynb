{
 "cells": [
  {
   "cell_type": "code",
   "execution_count": 1,
   "id": "15576be7-7818-4a3c-ac3f-d19adca02e09",
   "metadata": {},
   "outputs": [
    {
     "data": {
      "text/plain": [
       "{104: 4, 102: 7, 105: 2}"
      ]
     },
     "execution_count": 1,
     "metadata": {},
     "output_type": "execute_result"
    }
   ],
   "source": [
    "d={ 104: 4,102: 7,105: 2}\n",
    "d"
   ]
  },
  {
   "cell_type": "code",
   "execution_count": 5,
   "id": "012f66af-978b-49d5-b005-1ad2a03446be",
   "metadata": {},
   "outputs": [
    {
     "data": {
      "text/plain": [
       "4"
      ]
     },
     "execution_count": 5,
     "metadata": {},
     "output_type": "execute_result"
    }
   ],
   "source": [
    "d[104]"
   ]
  },
  {
   "cell_type": "code",
   "execution_count": 13,
   "id": "dcb6338b-2d71-4b79-84ca-a963c11fa127",
   "metadata": {},
   "outputs": [],
   "source": [
    "d.update({105:243})"
   ]
  },
  {
   "cell_type": "code",
   "execution_count": 15,
   "id": "db1d9d70-0640-49ab-b35c-c671ac8f2af0",
   "metadata": {},
   "outputs": [
    {
     "data": {
      "text/plain": [
       "{104: 4, 102: 7, 105: 243}"
      ]
     },
     "execution_count": 15,
     "metadata": {},
     "output_type": "execute_result"
    }
   ],
   "source": [
    "d"
   ]
  },
  {
   "cell_type": "code",
   "execution_count": 17,
   "id": "cad5d73a-6a02-4920-8aa1-04197aa17d9d",
   "metadata": {},
   "outputs": [
    {
     "data": {
      "text/plain": [
       "dict_keys([104, 102, 105])"
      ]
     },
     "execution_count": 17,
     "metadata": {},
     "output_type": "execute_result"
    }
   ],
   "source": [
    "d.keys()"
   ]
  },
  {
   "cell_type": "code",
   "execution_count": 19,
   "id": "8972a37d-a653-411d-9436-a6ab753a8a8f",
   "metadata": {},
   "outputs": [
    {
     "data": {
      "text/plain": [
       "dict_values([4, 7, 243])"
      ]
     },
     "execution_count": 19,
     "metadata": {},
     "output_type": "execute_result"
    }
   ],
   "source": [
    "d.values()"
   ]
  },
  {
   "cell_type": "code",
   "execution_count": 21,
   "id": "4e6e7c88-9c7d-49b1-b4d8-7afd7c6e43b4",
   "metadata": {},
   "outputs": [
    {
     "data": {
      "text/plain": [
       "dict_items([(104, 4), (102, 7), (105, 243)])"
      ]
     },
     "execution_count": 21,
     "metadata": {},
     "output_type": "execute_result"
    }
   ],
   "source": [
    "d.items()"
   ]
  },
  {
   "cell_type": "code",
   "execution_count": 23,
   "id": "c4149333-8dc2-4c17-8e0e-9d9867ebbf9c",
   "metadata": {},
   "outputs": [],
   "source": [
    "d.update({105:'India'})"
   ]
  },
  {
   "cell_type": "code",
   "execution_count": 25,
   "id": "6d1df033-d3b6-4c76-b94a-3d53f9eb532d",
   "metadata": {},
   "outputs": [
    {
     "data": {
      "text/plain": [
       "{104: 4, 102: 7, 105: 'India'}"
      ]
     },
     "execution_count": 25,
     "metadata": {},
     "output_type": "execute_result"
    }
   ],
   "source": [
    "d"
   ]
  },
  {
   "cell_type": "code",
   "execution_count": 29,
   "id": "03d05a75-14ea-4ef4-bbe1-9d58fc44f5e3",
   "metadata": {},
   "outputs": [
    {
     "data": {
      "text/plain": [
       "{104: 4, 102: 7, 105: 'India', 109: 4000}"
      ]
     },
     "execution_count": 29,
     "metadata": {},
     "output_type": "execute_result"
    }
   ],
   "source": [
    "d[109] = 4000\n",
    "d"
   ]
  },
  {
   "cell_type": "code",
   "execution_count": 31,
   "id": "ada96b80-1e1a-4f74-9f71-c4cf3d72a746",
   "metadata": {},
   "outputs": [
    {
     "data": {
      "text/plain": [
       "{102: 7, 105: 'India', 109: 4000}"
      ]
     },
     "execution_count": 31,
     "metadata": {},
     "output_type": "execute_result"
    }
   ],
   "source": [
    "del d[104]\n",
    "d"
   ]
  },
  {
   "cell_type": "code",
   "execution_count": 33,
   "id": "1410c24f-a18e-4c1d-9f7c-85ad4a765291",
   "metadata": {},
   "outputs": [
    {
     "data": {
      "text/plain": [
       "{102: 600, 105: 'India', 109: 4000}"
      ]
     },
     "execution_count": 33,
     "metadata": {},
     "output_type": "execute_result"
    }
   ],
   "source": [
    "d.update({102 : 600})\n",
    "d"
   ]
  },
  {
   "cell_type": "code",
   "execution_count": 35,
   "id": "238ea013-2ba0-4631-b5f0-82403267416e",
   "metadata": {},
   "outputs": [
    {
     "data": {
      "text/plain": [
       "'India'"
      ]
     },
     "execution_count": 35,
     "metadata": {},
     "output_type": "execute_result"
    }
   ],
   "source": [
    "d[105]"
   ]
  },
  {
   "cell_type": "code",
   "execution_count": 37,
   "id": "a432b7fd-8f5c-41bc-9c42-27937b8bfdfc",
   "metadata": {},
   "outputs": [
    {
     "data": {
      "text/plain": [
       "4000"
      ]
     },
     "execution_count": 37,
     "metadata": {},
     "output_type": "execute_result"
    }
   ],
   "source": [
    "d.get(109)"
   ]
  },
  {
   "cell_type": "code",
   "execution_count": 39,
   "id": "d6f90dbc-a616-4d5c-b459-18960270b526",
   "metadata": {},
   "outputs": [
    {
     "data": {
      "text/plain": [
       "{102: 600, 105: 'India', 109: 4000}"
      ]
     },
     "execution_count": 39,
     "metadata": {},
     "output_type": "execute_result"
    }
   ],
   "source": [
    "d"
   ]
  },
  {
   "cell_type": "code",
   "execution_count": 41,
   "id": "7a1688ae-bb3f-4729-abc1-feb6e6066baa",
   "metadata": {},
   "outputs": [],
   "source": [
    "d[108]= [2344,8000,6789,2467]"
   ]
  },
  {
   "cell_type": "code",
   "execution_count": 43,
   "id": "520af928-522b-4fef-906b-7622afccfefa",
   "metadata": {},
   "outputs": [
    {
     "data": {
      "text/plain": [
       "{102: 600, 105: 'India', 109: 4000, 108: [2344, 8000, 6789, 2467]}"
      ]
     },
     "execution_count": 43,
     "metadata": {},
     "output_type": "execute_result"
    }
   ],
   "source": [
    "d"
   ]
  },
  {
   "cell_type": "code",
   "execution_count": 45,
   "id": "2ae868d8-6c6f-46df-976b-2e295a67fb26",
   "metadata": {},
   "outputs": [
    {
     "data": {
      "text/plain": [
       "{102: 600, 105: 'India', 109: 4000, 108: [2344, 8000, 6789, 2467]}"
      ]
     },
     "execution_count": 45,
     "metadata": {},
     "output_type": "execute_result"
    }
   ],
   "source": [
    "d"
   ]
  },
  {
   "cell_type": "code",
   "execution_count": 47,
   "id": "1b12d4dd-bbde-4d70-822d-8af472fc4cf3",
   "metadata": {},
   "outputs": [
    {
     "data": {
      "text/plain": [
       "dict"
      ]
     },
     "execution_count": 47,
     "metadata": {},
     "output_type": "execute_result"
    }
   ],
   "source": [
    "type(d)"
   ]
  },
  {
   "cell_type": "code",
   "execution_count": 51,
   "id": "c97e4138-5b63-4875-8ff7-28f8723d10bc",
   "metadata": {},
   "outputs": [
    {
     "data": {
      "text/plain": [
       "str"
      ]
     },
     "execution_count": 51,
     "metadata": {},
     "output_type": "execute_result"
    }
   ],
   "source": [
    "type(d[105])"
   ]
  },
  {
   "cell_type": "code",
   "execution_count": 53,
   "id": "bf9278d0-5c3a-42cd-ae62-d42db3f6eb1c",
   "metadata": {},
   "outputs": [
    {
     "data": {
      "text/plain": [
       "'India'"
      ]
     },
     "execution_count": 53,
     "metadata": {},
     "output_type": "execute_result"
    }
   ],
   "source": [
    "a='India'\n",
    "a"
   ]
  },
  {
   "cell_type": "raw",
   "id": "342436ee-edaf-4328-849d-d1f8b7210afc",
   "metadata": {},
   "source": [
    "a.upper()"
   ]
  },
  {
   "cell_type": "code",
   "execution_count": 55,
   "id": "d5c5ff15-6307-41b7-add1-6b35ab01ef75",
   "metadata": {},
   "outputs": [
    {
     "data": {
      "text/plain": [
       "'INDIA'"
      ]
     },
     "execution_count": 55,
     "metadata": {},
     "output_type": "execute_result"
    }
   ],
   "source": [
    "a.upper()"
   ]
  },
  {
   "cell_type": "code",
   "execution_count": 57,
   "id": "5d34a60f-4b20-4968-b066-d113bdab0af3",
   "metadata": {},
   "outputs": [
    {
     "data": {
      "text/plain": [
       "False"
      ]
     },
     "execution_count": 57,
     "metadata": {},
     "output_type": "execute_result"
    }
   ],
   "source": [
    "a.isdigit()"
   ]
  },
  {
   "cell_type": "code",
   "execution_count": 61,
   "id": "df8bb5df-68ad-4e44-96ba-2c99938d78a9",
   "metadata": {},
   "outputs": [
    {
     "data": {
      "text/plain": [
       "'india'"
      ]
     },
     "execution_count": 61,
     "metadata": {},
     "output_type": "execute_result"
    }
   ],
   "source": [
    "a.lower()"
   ]
  },
  {
   "cell_type": "code",
   "execution_count": 63,
   "id": "a98a5582-9749-4dbd-be76-dd34ef55a6fb",
   "metadata": {},
   "outputs": [
    {
     "data": {
      "text/plain": [
       "600"
      ]
     },
     "execution_count": 63,
     "metadata": {},
     "output_type": "execute_result"
    }
   ],
   "source": [
    "d[102]"
   ]
  },
  {
   "cell_type": "code",
   "execution_count": 69,
   "id": "714c734a-f9f0-49be-8191-b64fde782798",
   "metadata": {},
   "outputs": [
    {
     "data": {
      "text/plain": [
       "0"
      ]
     },
     "execution_count": 69,
     "metadata": {},
     "output_type": "execute_result"
    }
   ],
   "source": [
    "d[108].count(4000)"
   ]
  },
  {
   "cell_type": "code",
   "execution_count": 71,
   "id": "5c4d5523-864b-49b7-a556-678528c24d04",
   "metadata": {},
   "outputs": [
    {
     "data": {
      "text/plain": [
       "{102: 600, 105: 'India', 109: 4000, 108: [2344, 8000, 7500, 6789, 2467]}"
      ]
     },
     "execution_count": 71,
     "metadata": {},
     "output_type": "execute_result"
    }
   ],
   "source": [
    "d[108].insert(2, 7500)\n",
    "d"
   ]
  },
  {
   "cell_type": "code",
   "execution_count": 73,
   "id": "968a0c30-fb97-483d-8ee0-a4fe528c01b2",
   "metadata": {},
   "outputs": [
    {
     "data": {
      "text/plain": [
       "{102: 600,\n",
       " 105: 'India',\n",
       " 109: (17, 25, 96, 23),\n",
       " 108: [2344, 8000, 7500, 6789, 2467]}"
      ]
     },
     "execution_count": 73,
     "metadata": {},
     "output_type": "execute_result"
    }
   ],
   "source": [
    "d.update({109:(17,25,96,23)})\n",
    "d"
   ]
  },
  {
   "cell_type": "code",
   "execution_count": 79,
   "id": "a5836c65-806d-47e6-a1d1-83554bbfb160",
   "metadata": {},
   "outputs": [
    {
     "data": {
      "text/plain": [
       "'INDIA'"
      ]
     },
     "execution_count": 79,
     "metadata": {},
     "output_type": "execute_result"
    }
   ],
   "source": [
    "d[105].upper()"
   ]
  },
  {
   "cell_type": "code",
   "execution_count": 81,
   "id": "bad6436a-a78b-4f02-94dc-8ebe070f7395",
   "metadata": {},
   "outputs": [
    {
     "data": {
      "text/plain": [
       "{102: 600,\n",
       " 105: 'India',\n",
       " 109: (17, 25, 96, 23),\n",
       " 108: [2344, 8000, 7500, 6789, 2467]}"
      ]
     },
     "execution_count": 81,
     "metadata": {},
     "output_type": "execute_result"
    }
   ],
   "source": [
    "d"
   ]
  },
  {
   "cell_type": "code",
   "execution_count": 83,
   "id": "ab37a539-1a27-4430-b4db-b092210b3407",
   "metadata": {},
   "outputs": [
    {
     "data": {
      "text/plain": [
       "{102: 600,\n",
       " 105: 'INDIA',\n",
       " 109: (17, 25, 96, 23),\n",
       " 108: [2344, 8000, 7500, 6789, 2467]}"
      ]
     },
     "execution_count": 83,
     "metadata": {},
     "output_type": "execute_result"
    }
   ],
   "source": [
    "d[105]=d[105].upper()\n",
    "d"
   ]
  },
  {
   "cell_type": "code",
   "execution_count": 101,
   "id": "1a0d71ee-c807-4291-bd4b-c62943b43a86",
   "metadata": {},
   "outputs": [
    {
     "data": {
      "text/plain": [
       "{102: {50: [7, 8, 9, 10], 'apple': (20, 10, 70, [90, 180, 270])},\n",
       " 105: 'INDIA',\n",
       " 109: (17, 25, 96, 23),\n",
       " 108: [2344, 8000, 7500, 6789, 2467]}"
      ]
     },
     "execution_count": 101,
     "metadata": {},
     "output_type": "execute_result"
    }
   ],
   "source": [
    "d[102]={50:[7,8,9,10],'apple':(20,10,70,[90,180,270])}\n",
    "d"
   ]
  },
  {
   "cell_type": "code",
   "execution_count": 103,
   "id": "85337fc2-2d60-4bfe-9632-47057b0ccada",
   "metadata": {},
   "outputs": [
    {
     "data": {
      "text/plain": [
       "{102: {50: [7, 8, 9, 10], 'apple': (20, 10, 70, [90, 180, 270])},\n",
       " 105: 'INDIA',\n",
       " 109: {'a': {40, 70, 90},\n",
       "  'b': (7000, 6000, 9000, 8000),\n",
       "  'c': ['L', {'Y': [22, 55], 'M': (99, 66)}, 'K']},\n",
       " 108: [2344, 8000, 7500, 6789, 2467]}"
      ]
     },
     "execution_count": 103,
     "metadata": {},
     "output_type": "execute_result"
    }
   ],
   "source": [
    "d[109]={'a':{40,70,90},'b':(7000,6000,9000,8000),'c':['L',{'Y':[22,55],'M':(99,66)},'K']}\n",
    "d"
   ]
  },
  {
   "cell_type": "code",
   "execution_count": 117,
   "id": "1014e06a-c7f4-4b7d-bfd0-1b253b1fc3a1",
   "metadata": {},
   "outputs": [
    {
     "data": {
      "text/plain": [
       "180"
      ]
     },
     "execution_count": 117,
     "metadata": {},
     "output_type": "execute_result"
    }
   ],
   "source": [
    "d[102]['apple'][3][1]"
   ]
  },
  {
   "cell_type": "code",
   "execution_count": 129,
   "id": "888d6158-57b0-48ae-afcb-fde43bdee547",
   "metadata": {},
   "outputs": [
    {
     "data": {
      "text/plain": [
       "{'a': {40, 70, 90},\n",
       " 'b': (7000, 6000, 9000, 8000),\n",
       " 'c': ['L', {'Y': [22, 55], 'M': (99, 66)}, 'K']}"
      ]
     },
     "execution_count": 129,
     "metadata": {},
     "output_type": "execute_result"
    }
   ],
   "source": [
    "d[109]"
   ]
  },
  {
   "cell_type": "code",
   "execution_count": 133,
   "id": "14899ecd-22b9-43cd-b1ea-bb9be9d72e59",
   "metadata": {},
   "outputs": [
    {
     "data": {
      "text/plain": [
       "{'Y': [22, 55], 'M': (99, 66)}"
      ]
     },
     "execution_count": 133,
     "metadata": {},
     "output_type": "execute_result"
    }
   ],
   "source": [
    "d[109]['c'][1]"
   ]
  },
  {
   "cell_type": "code",
   "execution_count": 135,
   "id": "eaec23b1-dc5f-4af2-9084-7dfd184650b9",
   "metadata": {},
   "outputs": [
    {
     "data": {
      "text/plain": [
       "9000"
      ]
     },
     "execution_count": 135,
     "metadata": {},
     "output_type": "execute_result"
    }
   ],
   "source": [
    "d[109]['b'][2]"
   ]
  }
 ],
 "metadata": {
  "kernelspec": {
   "display_name": "Python [conda env:base] *",
   "language": "python",
   "name": "conda-base-py"
  },
  "language_info": {
   "codemirror_mode": {
    "name": "ipython",
    "version": 3
   },
   "file_extension": ".py",
   "mimetype": "text/x-python",
   "name": "python",
   "nbconvert_exporter": "python",
   "pygments_lexer": "ipython3",
   "version": "3.12.7"
  }
 },
 "nbformat": 4,
 "nbformat_minor": 5
}
